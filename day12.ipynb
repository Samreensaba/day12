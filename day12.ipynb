{
 "cells": [
  {
   "cell_type": "code",
   "execution_count": 1,
   "id": "425c6e4e-9dea-484f-828c-7068fc606c06",
   "metadata": {},
   "outputs": [
    {
     "ename": "SyntaxError",
     "evalue": "unterminated string literal (detected at line 3) (2668113061.py, line 3)",
     "output_type": "error",
     "traceback": [
      "\u001b[1;36m  Cell \u001b[1;32mIn[1], line 3\u001b[1;36m\u001b[0m\n\u001b[1;33m    print(\"How many can you answer correctly?)\u001b[0m\n\u001b[1;37m          ^\u001b[0m\n\u001b[1;31mSyntaxError\u001b[0m\u001b[1;31m:\u001b[0m unterminated string literal (detected at line 3)\n"
     ]
    }
   ],
   "source": [
    "print(\"100 Days of Code QUIZ\")\n",
    "print()\n",
    "print(\"How many can you answer correctly?)\n",
    "ans1 = (\"What language are we writing in?\")\n",
    "if ans1 == \"python\":\n",
    "  print(\"Correct\")\n",
    "else:\n",
    "  print(\"Nope🙈\n",
    "ans2 = input(\"Which lesson number is this?\")\n",
    "if(ans2>12):\n",
    "print(\"We're not quite that far yet\")\n",
    "else:\n",
    "  print(\"We've gone well past that!\")\n",
    "elif(ans2==12):\n",
    "  print(\"That's right!\")"
   ]
  },
  {
   "cell_type": "code",
   "execution_count": null,
   "id": "f78c4739-9534-4095-a047-097332ed9761",
   "metadata": {},
   "outputs": [],
   "source": [
    "print(\"100 Days of Code QUIZ\")\n",
    "print()\n",
    "print(\"How many can you answer correctly?\")\n",
    "ans1 = input(\"What language are we writing in?\")\n",
    "if ans1 == \"python\":\n",
    "  print(\"Correct\")\n",
    "else:\n",
    "  print(\"Nope🙈\")\n",
    "ans2 = int(input(\"Which lesson number is this?\"))\n",
    "if ans2 > 12:\n",
    " print(\"We're not quite that far yet\")\n",
    "elif ans2==12:\n",
    "  print(\"That's right!\")\n",
    "else:\n",
    " print(\"We've gone well past that!\")"
   ]
  }
 ],
 "metadata": {
  "kernelspec": {
   "display_name": "Python 3 (ipykernel)",
   "language": "python",
   "name": "python3"
  },
  "language_info": {
   "codemirror_mode": {
    "name": "ipython",
    "version": 3
   },
   "file_extension": ".py",
   "mimetype": "text/x-python",
   "name": "python",
   "nbconvert_exporter": "python",
   "pygments_lexer": "ipython3",
   "version": "3.12.4"
  }
 },
 "nbformat": 4,
 "nbformat_minor": 5
}
